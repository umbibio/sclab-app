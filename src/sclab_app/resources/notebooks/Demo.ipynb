{
 "cells": [
  {
   "cell_type": "code",
   "execution_count": null,
   "id": "d29301f4-5be0-48cb-af53-d0a60968b24b",
   "metadata": {},
   "outputs": [],
   "source": [
    "from sclab.scanpy.readwrite import _download\n",
    "from scipy.sparse import csr_matrix\n",
    "from pathlib import Path\n",
    "\n",
    "import pandas as pd\n",
    "import scanpy as sc\n",
    "import sclab\n",
    "import sclab.preprocess"
   ]
  },
  {
   "cell_type": "markdown",
   "id": "0e8de620-04aa-477b-8ee6-19eec88ddb23",
   "metadata": {},
   "source": [
    "## Download resources"
   ]
  },
  {
   "cell_type": "code",
   "execution_count": null,
   "id": "5052ca27-da1a-4c2c-9e6d-b2d6d10690b7",
   "metadata": {},
   "outputs": [],
   "source": [
    "url = \"https://poisson.math.umb.edu/data/mpm2025/TgondiiME49v68_genes.csv\"\n",
    "filepath = Path(\"TgondiiME49v68_genes.csv\")\n",
    "if not filepath.exists():\n",
    "    _download(url, filepath)"
   ]
  },
  {
   "cell_type": "code",
   "execution_count": null,
   "id": "2e523554-770e-482d-bbd2-ced33758aa76",
   "metadata": {},
   "outputs": [],
   "source": [
    "url = \"https://poisson.math.umb.edu/data/mpm2025/011_me49_allg.h5ad\"\n",
    "filepath = Path(\"011_me49_allg.h5ad\")\n",
    "if not filepath.exists():\n",
    "    _download(url, filepath)"
   ]
  },
  {
   "cell_type": "code",
   "execution_count": null,
   "id": "8f490e03-efd3-4663-ba8e-f9d689cc4148",
   "metadata": {},
   "outputs": [],
   "source": [
    "url = \"https://poisson.math.umb.edu/data/mpm2025/0701+0702_adata_TGME49_genes.h5ad\"\n",
    "filepath = Path(\"0701+0702_adata_TGME49_genes.h5ad\")\n",
    "if not filepath.exists():\n",
    "    _download(url, filepath)"
   ]
  },
  {
   "cell_type": "markdown",
   "id": "74bf87c2-64c1-4097-ba29-fc42dc3d978f",
   "metadata": {},
   "source": [
    "## Prepare Genes Table"
   ]
  },
  {
   "cell_type": "code",
   "execution_count": null,
   "id": "41d87198-445b-4dcb-a594-4d36fea4108a",
   "metadata": {},
   "outputs": [],
   "source": [
    "# if find_spec(\"pyranges\") is None:\n",
    "#     !{sys.executable} -m pip install pyranges\n",
    "\n",
    "# import sys\n",
    "# import urllib.parse\n",
    "# import pyranges\n",
    "\n",
    "# genes_table = pyranges.read_gff3(\"ToxoDB-68_TgondiiME49.gff\").df\n",
    "# genes_table = genes_table.loc[~genes_table[\"ebi_biotype\"].isna(), [\"ID\", \"description\", \"Name\", \"ebi_biotype\"]]\n",
    "# genes_table.columns = \"gene_\" + genes_table.columns.str.lower()\n",
    "# genes_table = genes_table.set_index(\"gene_id\")\n",
    "# genes_table[\"gene_description\"] = genes_table[\"gene_description\"].map(urllib.parse.unquote)\n",
    "# genes_table = genes_table.fillna(\"\")\n",
    "# genes_table[\"cytochrome\"] = genes_table.gene_description.str.lower().str.contains('cytochrome')\n",
    "# genes_table[\"ribosomal_rna\"] = genes_table.gene_description.str.lower().str.contains(' ribosomal rna')\n",
    "# genes_table.to_csv(\"TgondiiME49v68_genes.csv\")\n",
    "# genes_table.head()"
   ]
  },
  {
   "cell_type": "code",
   "execution_count": null,
   "id": "fa91cdb9-06fd-4d39-ace2-18289da964c3",
   "metadata": {},
   "outputs": [],
   "source": [
    "genes_table = pd.read_csv(\"TgondiiME49v68_genes.csv\", index_col=0).fillna(\"\")\n",
    "genes_table.head()"
   ]
  },
  {
   "cell_type": "markdown",
   "id": "6339fabb-a56c-4ca3-b152-1b4e6d503387",
   "metadata": {},
   "source": [
    "## Prepare Datasets"
   ]
  },
  {
   "cell_type": "code",
   "execution_count": null,
   "id": "24abf656-c7f1-4f8d-9330-ba8efa552a00",
   "metadata": {},
   "outputs": [],
   "source": [
    "adata_0701p0702 = sc.read_h5ad(\"0701+0702_adata_TGME49_genes.h5ad\")\n",
    "\n",
    "# (optional) keep only genes in annotation\n",
    "sclab.preprocess.subset_var(adata_0701p0702, adata_0701p0702.var_names.intersection(genes_table.index))\n",
    "adata_0701p0702.var = adata_0701p0702.var.join(genes_table)\n",
    "\n",
    "adata_0701p0702"
   ]
  },
  {
   "cell_type": "code",
   "execution_count": null,
   "id": "f0743d23-1917-4364-9990-fe678a751897",
   "metadata": {},
   "outputs": [],
   "source": [
    "adata_011_me49 = sc.read_h5ad(\"011_me49_allg.h5ad\")\n",
    "adata_011_me49.X = csr_matrix(adata_011_me49.layers[\"matrix\"])\n",
    "del adata_011_me49.layers\n",
    "\n",
    "# (optional) keep only genes in annotation\n",
    "sclab.preprocess.subset_var(adata_011_me49, adata_011_me49.var_names.intersection(genes_table.index))\n",
    "adata_011_me49.var = adata_011_me49.var.join(genes_table)\n",
    "\n",
    "adata_011_me49"
   ]
  },
  {
   "cell_type": "markdown",
   "id": "09693b33-79a2-4870-bb15-1a7a6238e146",
   "metadata": {},
   "source": [
    "### Merge the two datasets"
   ]
  },
  {
   "cell_type": "code",
   "execution_count": null,
   "id": "b8afde5d-9089-413a-a377-20b5ebd9b293",
   "metadata": {},
   "outputs": [],
   "source": [
    "combined = sc.concat({\n",
    "    \"0701p0702\": adata_0701p0702,\n",
    "    \"011_me49\": adata_011_me49,\n",
    "}, join=\"outer\", label=\"batch\", index_unique=\"_\")\n",
    "\n",
    "# (optional) keep only genes in annotation\n",
    "sclab.preprocess.subset_var(combined, combined.var_names.intersection(genes_table.index))\n",
    "combined.var = combined.var.join(genes_table)\n",
    "\n",
    "combined"
   ]
  },
  {
   "cell_type": "markdown",
   "id": "1d1a6819-661d-40dc-8639-ff887ba5050c",
   "metadata": {},
   "source": [
    "## Display App"
   ]
  },
  {
   "cell_type": "code",
   "execution_count": null,
   "id": "989a8dd2-04c5-4637-9f9a-6742c213e3b0",
   "metadata": {},
   "outputs": [],
   "source": [
    "db = sclab.SCLabDashboard()"
   ]
  },
  {
   "cell_type": "code",
   "execution_count": null,
   "id": "427485cc-a88c-4a4a-a49a-50fb73d3ada1",
   "metadata": {},
   "outputs": [],
   "source": [
    "db"
   ]
  },
  {
   "cell_type": "code",
   "execution_count": null,
   "id": "c9080b79-5d38-4ae0-8098-b4ee2ac8f9a9",
   "metadata": {},
   "outputs": [],
   "source": []
  }
 ],
 "metadata": {
  "kernelspec": {
   "display_name": "SCLab-Dev",
   "language": "python",
   "name": "sclab-dev"
  },
  "language_info": {
   "codemirror_mode": {
    "name": "ipython",
    "version": 3
   },
   "file_extension": ".py",
   "mimetype": "text/x-python",
   "name": "python",
   "nbconvert_exporter": "python",
   "pygments_lexer": "ipython3",
   "version": "3.12.3"
  }
 },
 "nbformat": 4,
 "nbformat_minor": 5
}
